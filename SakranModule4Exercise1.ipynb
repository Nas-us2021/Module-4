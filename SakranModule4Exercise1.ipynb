{
 "cells": [
  {
   "cell_type": "markdown",
   "metadata": {},
   "source": [
    "Exercise 1: Make an empty list and call it names"
   ]
  },
  {
   "cell_type": "code",
   "execution_count": null,
   "metadata": {},
   "outputs": [],
   "source": [
    "names = []\n",
    "print (\"Create and print empty 'names' list.\")\n",
    "print (names)"
   ]
  },
  {
   "cell_type": "markdown",
   "metadata": {},
   "source": [
    "Exercise 2: Make names filled with names of 5 people: Hannah, Victor, Sam, James, Sarah"
   ]
  },
  {
   "cell_type": "code",
   "execution_count": null,
   "metadata": {},
   "outputs": [],
   "source": [
    "print (\"Create and print list of names.\")\n",
    "names = [\"Hannah\", \"Victor\", \"Sam\", \"James\", \"Sarah\"]\n",
    "print (names)\n"
   ]
  },
  {
   "cell_type": "markdown",
   "metadata": {},
   "source": [
    "Exercise 3: Make names sort in reverse. Print out the list using a for-loop"
   ]
  },
  {
   "cell_type": "code",
   "execution_count": null,
   "metadata": {},
   "outputs": [],
   "source": [
    "print(\"Create and print list of names.\")\n",
    "names = [\"Hannah\", \"Victor\", \"Sam\", \"James\", \"Sarah\"]\n",
    "print (names)\n",
    "length = len(names)   #Get list length.\n",
    "print (\"List length is: \", length, type(length))\n",
    "\n",
    "print (\"Sort in reverse ALPHABETICAL order and print.\") # Do I really want just 'reverse order', and, if so, how?\n",
    "print (\"Dynamic sorted names: \", names.sort(reverse=True))\n",
    "\n",
    "\n",
    "print (\"Print reverse-sorted names using a for loop.\")\n",
    "for i in range length:\n",
    "    print(\"Position, name: \", i ,sorted_names[i])\n",
    "print (\"Finished printing\")\n",
    " "
   ]
  },
  {
   "cell_type": "markdown",
   "metadata": {},
   "source": [
    "Exercise 4: Make names sorted alphabetically. Print out the list using while loop"
   ]
  },
  {
   "cell_type": "code",
   "execution_count": null,
   "metadata": {},
   "outputs": [],
   "source": [
    "names = [\"Hannah\", \"Victor\", \"Sam\", \"James\", \"Sarah\"]\n",
    "print (\"Original list: \", names)\n",
    "sorted_names =sorted(names)\n",
    "print (\"Alphabetically sorted list: \", sorted_names, \"\\n\")\n",
    "\n",
    "print (\"Print unsorted list using while loop.\")\n",
    "length = len(names)   #Get list length.\n",
    "i = 0\n",
    "  \n",
    "# Iterating using while loop\n",
    "while i < length:\n",
    "    print(names[i])\n",
    "    i += 1\n",
    "print (\"Print sorted list using while loop.\")\n",
    "i = 0\n",
    "sorted_names = (names.sort)\n",
    "while i < length:\n",
    "    printable = sorted_names[i]\n",
    "    print (printable)\n",
    "    i += 1"
   ]
  },
  {
   "cell_type": "markdown",
   "metadata": {},
   "source": [
    "Exercise 5: Pull out the fourth item from names and print it out"
   ]
  },
  {
   "cell_type": "code",
   "execution_count": null,
   "metadata": {},
   "outputs": [],
   "source": [
    "\n",
    "names = [\"Hannah\", \"Victor\", \"Sam\", \"James\", \"Sarah\"]\n",
    "print (names)\n",
    "print (\"Fourth element is: \", names[4-1])"
   ]
  },
  {
   "cell_type": "markdown",
   "metadata": {},
   "source": [
    "Exercise 6: Pull out the first item from names and print it out"
   ]
  },
  {
   "cell_type": "code",
   "execution_count": null,
   "metadata": {},
   "outputs": [],
   "source": [
    "names = [\"Hannah\", \"Victor\", \"Sam\", \"James\", \"Sarah\"]\n",
    "print (names)\n",
    "print (\"First element is: \", names[0])"
   ]
  },
  {
   "cell_type": "markdown",
   "metadata": {},
   "source": [
    "Exercise 7: Make a variable named fruits that contains a string \"Apples, Oranges, Bananas, Pineapples, Persimmons, Dragonfruit\" and make it into a list splitting it by the commas."
   ]
  },
  {
   "cell_type": "code",
   "execution_count": null,
   "metadata": {
    "scrolled": true
   },
   "outputs": [],
   "source": [
    "fruits = (\"Apples, Oranges, Bananas, Pineapples, Persimmons, Dragonfruit\")\n",
    "print (\"List is: \", fruits)\n",
    "split_list = fruits.split(\",\")\n",
    "print (\"Split list is: \", split_list)"
   ]
  },
  {
   "cell_type": "markdown",
   "metadata": {},
   "source": [
    "Exercise 8: Create a list of the first 10 square numbers. i.e. the square of each integer from 1 to 10. "
   ]
  },
  {
   "cell_type": "code",
   "execution_count": null,
   "metadata": {},
   "outputs": [],
   "source": [
    "print (\"Exercise 8: Create and print a list of the first 10 square numbers.\")\n",
    "my_list = [] #Create empty list.\n",
    "start = 1\n",
    "for i in range(1, 11) :\n",
    "    square = (i*i)\n",
    "    my_list.append (square)\n",
    "print (my_list)"
   ]
  },
  {
   "cell_type": "markdown",
   "metadata": {},
   "source": [
    "Exercise 9: Create a multiplication table from 1 to 10"
   ]
  },
  {
   "cell_type": "code",
   "execution_count": null,
   "metadata": {},
   "outputs": [],
   "source": [
    "print (\"Exercise 9: Create and print a multiplication table from 1 to 10.\")\n",
    "mult_table = []\n",
    "print (\"Mult_table: \", mult_table)\n",
    "multiplier = 1\n",
    "print (\"Multiplier  is: \", multiplier)\n",
    "for i in range(1, 11) :\n",
    "#    print (\"I is: \", i)\n",
    "    product = (i*multiplier)\n",
    "#   print (product)\n",
    "    print (multiplier, \" * \", i, \" = \", product)   \n",
    "    mult_table.append (product)\n",
    "print (\"Mult_table: \", mult_table)\n",
    "\n"
   ]
  },
  {
   "cell_type": "markdown",
   "metadata": {},
   "source": [
    ",Exercise 10: Write a program that gets test scores from a user and then calculates and displays the average of the scores that have been enter. The output of the program should show the original scores and the average. "
   ]
  },
  {
   "cell_type": "code",
   "execution_count": null,
   "metadata": {},
   "outputs": [],
   "source": [
    "#INITIALLY, I TRIED TO CODE IT SUCH THAT ALL SCORES COULD BE ENTERED VIA ONE INPUT STATEMENT.\n",
    "#I FAILED.\n",
    "print (\"Exercise 10: Capture and average test scores.\")\n",
    "scores = []\n",
    "score_sum = 0\n",
    "num_scores = 0\n",
    "\n",
    "while True :\n",
    "    score = input(\"Enter a test score or 'q' to quit: \")\n",
    "    if score.lower() == 'q' :\n",
    "        break\n",
    "    \n",
    "    scores.append(score)\n",
    "    score_sum += float(score)\n",
    "    num_scores += 1\n",
    "\n",
    "if num_scores == 0 :\n",
    "    avg = 0\n",
    "else :\n",
    "    avg = score_sum / num_scores\n",
    "    \n",
    "print(f\"\\nAll scores: {scores}\")\n",
    "print (f\"Number of scores\", num_scores)\n",
    "print (f\"Sum of all scores: {score_sum:.2f}\")\n",
    "print(f\"Average score: {avg:.2f}\")\n"
   ]
  },
  {
   "cell_type": "markdown",
   "metadata": {},
   "source": [
    "Challenge:\n",
    "Write a program that maintains a list of movies, and the user can list all the movies, add a movie to the list, or delete a movie from the list.\n",
    "\n",
    "Example\n",
    "\n",
    "###### COMMAND MENU\n",
    "```\n",
    "list - list all movies\n",
    "add - add a movie\n",
    "del - delete a movie\n",
    "exit - exit program \n",
    "```\n",
    "\n",
    "###### Command: list\n",
    "``` \n",
    " 1. Toy Story\n",
    " 2. Lion King\n",
    " 3. Frozen\n",
    " ```\n",
    "\n",
    "###### Command: add\n",
    " ```\n",
    " Name: Snow White\n",
    " Snow White was added.\n",
    " ```\n",
    "\n",
    "###### Command: del\n",
    "```\n",
    " Number: 3\n",
    " Frozen was deleted.```\n",
    "\n"
   ]
  },
  {
   "cell_type": "code",
   "execution_count": null,
   "metadata": {},
   "outputs": [],
   "source": [
    "print (\"Challenge\")\n",
    "movies =[\"Toy Story\", \"Lion King\", \"Frozen\"]\n",
    "command = input(\"Enter command (list, add, del)\")\n",
    "if command == \"list\" :\n",
    "    print (\"Movies: \", movies)\n",
    "elif command == \"add\":\n",
    "    add_movie = str(input(\"Enter movie to be added: \"))\n",
    "    movies.append(add_movie)\n",
    "    print (add_movie, \" was added.\")\n",
    "    print (\"Revised list is: \", movies)\n",
    "elif command == \"del\" :\n",
    "    del_movie = input(\"Enter name of movie you want to delete: \")\n",
    "    movies.remove(del_movie)\n",
    "    print (del_movie, \" was deleted from list\")\n",
    "    print (\"Revised list is: \", movies)\n",
    "else :\n",
    "    print (\"Invalid entry\")\n",
    "print (\"That's all folks!\")\n",
    "exit() # Exit creates a dead kernal. Is this correct?\n",
    "                          \n",
    "                          \n",
    "                          "
   ]
  },
  {
   "cell_type": "code",
   "execution_count": null,
   "metadata": {},
   "outputs": [],
   "source": []
  },
  {
   "cell_type": "code",
   "execution_count": null,
   "metadata": {},
   "outputs": [],
   "source": []
  },
  {
   "cell_type": "code",
   "execution_count": null,
   "metadata": {},
   "outputs": [],
   "source": []
  },
  {
   "cell_type": "code",
   "execution_count": null,
   "metadata": {},
   "outputs": [],
   "source": []
  }
 ],
 "metadata": {
  "kernelspec": {
   "display_name": "Python 3",
   "language": "python",
   "name": "python3"
  },
  "language_info": {
   "codemirror_mode": {
    "name": "ipython",
    "version": 3
   },
   "file_extension": ".py",
   "mimetype": "text/x-python",
   "name": "python",
   "nbconvert_exporter": "python",
   "pygments_lexer": "ipython3",
   "version": "3.8.8"
  }
 },
 "nbformat": 4,
 "nbformat_minor": 4
}
